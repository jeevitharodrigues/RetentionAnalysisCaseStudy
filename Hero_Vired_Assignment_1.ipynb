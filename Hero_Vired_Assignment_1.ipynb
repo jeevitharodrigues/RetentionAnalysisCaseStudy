{
  "nbformat": 4,
  "nbformat_minor": 0,
  "metadata": {
    "colab": {
      "name": "Hero Vired Assignment-1.ipynb",
      "provenance": [],
      "collapsed_sections": [
        "iBk79B19brGx",
        "VmZHirOjbgxt",
        "WU8s92wUt3wG",
        "0ZqI3Ft3DyzY",
        "4jfHAnkTJTaT",
        "g3p0v96oM_BD"
      ]
    },
    "kernelspec": {
      "name": "python3",
      "display_name": "Python 3"
    },
    "language_info": {
      "name": "python"
    }
  },
  "cells": [
    {
      "cell_type": "markdown",
      "source": [
        "#Importing Data"
      ],
      "metadata": {
        "id": "iBk79B19brGx"
      }
    },
    {
      "cell_type": "code",
      "execution_count": null,
      "metadata": {
        "id": "G01lfaFnY0cb"
      },
      "outputs": [],
      "source": [
        "#Open JSON File and convert it into csv file\n",
        "import json\n",
        "import csv\n",
        "import ast\n",
        " \n",
        "with open(\"/content/drive/MyDrive/Colab Notebooks/DATA Set/retention.json\") as json_file:\n",
        "  jsondata = json.load(json_file)\n",
        "\n",
        "data_file = open(\"/content/drive/MyDrive/Colab Notebooks/DATA Set/jsonoutput.csv\", \"w\", newline='')\n",
        "csv_writer = csv.writer(data_file)\n",
        " \n",
        "count = 0\n",
        "for header in jsondata:\n",
        "  if count==0:\n",
        "    csv_writer.writerow(jsondata[header].keys())\n",
        "\n",
        "  csv_writer.writerow([str(e) for e in jsondata[header].values()])\n",
        "  count +=1\n",
        " \n",
        "data_file.close()"
      ]
    },
    {
      "cell_type": "code",
      "source": [
        "#Read csv file and print head\n",
        "import pandas as pd\n",
        "\n",
        "df = pd.read_csv(\"/content/drive/MyDrive/Colab Notebooks/DATA Set/jsonoutput.csv\")\n",
        "\n",
        "df.head()"
      ],
      "metadata": {
        "colab": {
          "base_uri": "https://localhost:8080/",
          "height": 206
        },
        "id": "Ooiob3svY8Zm",
        "outputId": "de1ce6b6-ba3a-4c78-87b5-7a75978fa9b8"
      },
      "execution_count": null,
      "outputs": [
        {
          "output_type": "execute_result",
          "data": {
            "text/plain": [
              "  gender       age gross_income            segment  num_credit_cards  \\\n",
              "0      M  21 years   $ 79070.91        Individuals                 0   \n",
              "1      M  23 years  $ 178270.68  College_Graduated                 0   \n",
              "2      M  24 years   $ 31243.56  College_Graduated                 0   \n",
              "3      M  24 years  $ 130740.54  College_Graduated                 0   \n",
              "4      M  31 years  $ 112975.17        Individuals                 0   \n",
              "\n",
              "  tiprel_1mes  ind_actividad_cliente  num_Products  num_loans  duration  \n",
              "0           I                      0             1          0      1035  \n",
              "1           I                      0             1          0      1097  \n",
              "2           I                      1             1          0      1866  \n",
              "3           I                      0             1          0      1440  \n",
              "4           I                      0             0          0       376  "
            ],
            "text/html": [
              "\n",
              "  <div id=\"df-9fd4dca9-3aa2-42d4-ab31-d6f7ed5d7b9e\">\n",
              "    <div class=\"colab-df-container\">\n",
              "      <div>\n",
              "<style scoped>\n",
              "    .dataframe tbody tr th:only-of-type {\n",
              "        vertical-align: middle;\n",
              "    }\n",
              "\n",
              "    .dataframe tbody tr th {\n",
              "        vertical-align: top;\n",
              "    }\n",
              "\n",
              "    .dataframe thead th {\n",
              "        text-align: right;\n",
              "    }\n",
              "</style>\n",
              "<table border=\"1\" class=\"dataframe\">\n",
              "  <thead>\n",
              "    <tr style=\"text-align: right;\">\n",
              "      <th></th>\n",
              "      <th>gender</th>\n",
              "      <th>age</th>\n",
              "      <th>gross_income</th>\n",
              "      <th>segment</th>\n",
              "      <th>num_credit_cards</th>\n",
              "      <th>tiprel_1mes</th>\n",
              "      <th>ind_actividad_cliente</th>\n",
              "      <th>num_Products</th>\n",
              "      <th>num_loans</th>\n",
              "      <th>duration</th>\n",
              "    </tr>\n",
              "  </thead>\n",
              "  <tbody>\n",
              "    <tr>\n",
              "      <th>0</th>\n",
              "      <td>M</td>\n",
              "      <td>21 years</td>\n",
              "      <td>$ 79070.91</td>\n",
              "      <td>Individuals</td>\n",
              "      <td>0</td>\n",
              "      <td>I</td>\n",
              "      <td>0</td>\n",
              "      <td>1</td>\n",
              "      <td>0</td>\n",
              "      <td>1035</td>\n",
              "    </tr>\n",
              "    <tr>\n",
              "      <th>1</th>\n",
              "      <td>M</td>\n",
              "      <td>23 years</td>\n",
              "      <td>$ 178270.68</td>\n",
              "      <td>College_Graduated</td>\n",
              "      <td>0</td>\n",
              "      <td>I</td>\n",
              "      <td>0</td>\n",
              "      <td>1</td>\n",
              "      <td>0</td>\n",
              "      <td>1097</td>\n",
              "    </tr>\n",
              "    <tr>\n",
              "      <th>2</th>\n",
              "      <td>M</td>\n",
              "      <td>24 years</td>\n",
              "      <td>$ 31243.56</td>\n",
              "      <td>College_Graduated</td>\n",
              "      <td>0</td>\n",
              "      <td>I</td>\n",
              "      <td>1</td>\n",
              "      <td>1</td>\n",
              "      <td>0</td>\n",
              "      <td>1866</td>\n",
              "    </tr>\n",
              "    <tr>\n",
              "      <th>3</th>\n",
              "      <td>M</td>\n",
              "      <td>24 years</td>\n",
              "      <td>$ 130740.54</td>\n",
              "      <td>College_Graduated</td>\n",
              "      <td>0</td>\n",
              "      <td>I</td>\n",
              "      <td>0</td>\n",
              "      <td>1</td>\n",
              "      <td>0</td>\n",
              "      <td>1440</td>\n",
              "    </tr>\n",
              "    <tr>\n",
              "      <th>4</th>\n",
              "      <td>M</td>\n",
              "      <td>31 years</td>\n",
              "      <td>$ 112975.17</td>\n",
              "      <td>Individuals</td>\n",
              "      <td>0</td>\n",
              "      <td>I</td>\n",
              "      <td>0</td>\n",
              "      <td>0</td>\n",
              "      <td>0</td>\n",
              "      <td>376</td>\n",
              "    </tr>\n",
              "  </tbody>\n",
              "</table>\n",
              "</div>\n",
              "      <button class=\"colab-df-convert\" onclick=\"convertToInteractive('df-9fd4dca9-3aa2-42d4-ab31-d6f7ed5d7b9e')\"\n",
              "              title=\"Convert this dataframe to an interactive table.\"\n",
              "              style=\"display:none;\">\n",
              "        \n",
              "  <svg xmlns=\"http://www.w3.org/2000/svg\" height=\"24px\"viewBox=\"0 0 24 24\"\n",
              "       width=\"24px\">\n",
              "    <path d=\"M0 0h24v24H0V0z\" fill=\"none\"/>\n",
              "    <path d=\"M18.56 5.44l.94 2.06.94-2.06 2.06-.94-2.06-.94-.94-2.06-.94 2.06-2.06.94zm-11 1L8.5 8.5l.94-2.06 2.06-.94-2.06-.94L8.5 2.5l-.94 2.06-2.06.94zm10 10l.94 2.06.94-2.06 2.06-.94-2.06-.94-.94-2.06-.94 2.06-2.06.94z\"/><path d=\"M17.41 7.96l-1.37-1.37c-.4-.4-.92-.59-1.43-.59-.52 0-1.04.2-1.43.59L10.3 9.45l-7.72 7.72c-.78.78-.78 2.05 0 2.83L4 21.41c.39.39.9.59 1.41.59.51 0 1.02-.2 1.41-.59l7.78-7.78 2.81-2.81c.8-.78.8-2.07 0-2.86zM5.41 20L4 18.59l7.72-7.72 1.47 1.35L5.41 20z\"/>\n",
              "  </svg>\n",
              "      </button>\n",
              "      \n",
              "  <style>\n",
              "    .colab-df-container {\n",
              "      display:flex;\n",
              "      flex-wrap:wrap;\n",
              "      gap: 12px;\n",
              "    }\n",
              "\n",
              "    .colab-df-convert {\n",
              "      background-color: #E8F0FE;\n",
              "      border: none;\n",
              "      border-radius: 50%;\n",
              "      cursor: pointer;\n",
              "      display: none;\n",
              "      fill: #1967D2;\n",
              "      height: 32px;\n",
              "      padding: 0 0 0 0;\n",
              "      width: 32px;\n",
              "    }\n",
              "\n",
              "    .colab-df-convert:hover {\n",
              "      background-color: #E2EBFA;\n",
              "      box-shadow: 0px 1px 2px rgba(60, 64, 67, 0.3), 0px 1px 3px 1px rgba(60, 64, 67, 0.15);\n",
              "      fill: #174EA6;\n",
              "    }\n",
              "\n",
              "    [theme=dark] .colab-df-convert {\n",
              "      background-color: #3B4455;\n",
              "      fill: #D2E3FC;\n",
              "    }\n",
              "\n",
              "    [theme=dark] .colab-df-convert:hover {\n",
              "      background-color: #434B5C;\n",
              "      box-shadow: 0px 1px 3px 1px rgba(0, 0, 0, 0.15);\n",
              "      filter: drop-shadow(0px 1px 2px rgba(0, 0, 0, 0.3));\n",
              "      fill: #FFFFFF;\n",
              "    }\n",
              "  </style>\n",
              "\n",
              "      <script>\n",
              "        const buttonEl =\n",
              "          document.querySelector('#df-9fd4dca9-3aa2-42d4-ab31-d6f7ed5d7b9e button.colab-df-convert');\n",
              "        buttonEl.style.display =\n",
              "          google.colab.kernel.accessAllowed ? 'block' : 'none';\n",
              "\n",
              "        async function convertToInteractive(key) {\n",
              "          const element = document.querySelector('#df-9fd4dca9-3aa2-42d4-ab31-d6f7ed5d7b9e');\n",
              "          const dataTable =\n",
              "            await google.colab.kernel.invokeFunction('convertToInteractive',\n",
              "                                                     [key], {});\n",
              "          if (!dataTable) return;\n",
              "\n",
              "          const docLinkHtml = 'Like what you see? Visit the ' +\n",
              "            '<a target=\"_blank\" href=https://colab.research.google.com/notebooks/data_table.ipynb>data table notebook</a>'\n",
              "            + ' to learn more about interactive tables.';\n",
              "          element.innerHTML = '';\n",
              "          dataTable['output_type'] = 'display_data';\n",
              "          await google.colab.output.renderOutput(dataTable, element);\n",
              "          const docLink = document.createElement('div');\n",
              "          docLink.innerHTML = docLinkHtml;\n",
              "          element.appendChild(docLink);\n",
              "        }\n",
              "      </script>\n",
              "    </div>\n",
              "  </div>\n",
              "  "
            ]
          },
          "metadata": {},
          "execution_count": 3
        }
      ]
    },
    {
      "cell_type": "code",
      "source": [
        "#Information related to dataframe\n",
        "df.info()"
      ],
      "metadata": {
        "colab": {
          "base_uri": "https://localhost:8080/"
        },
        "id": "JycDml2jZFTS",
        "outputId": "4c176d75-418d-42b8-ed76-d2712c5ee3de"
      },
      "execution_count": null,
      "outputs": [
        {
          "output_type": "stream",
          "name": "stdout",
          "text": [
            "<class 'pandas.core.frame.DataFrame'>\n",
            "RangeIndex: 54030 entries, 0 to 54029\n",
            "Data columns (total 10 columns):\n",
            " #   Column                 Non-Null Count  Dtype \n",
            "---  ------                 --------------  ----- \n",
            " 0   gender                 54030 non-null  object\n",
            " 1   age                    54030 non-null  object\n",
            " 2   gross_income           54030 non-null  object\n",
            " 3   segment                54030 non-null  object\n",
            " 4   num_credit_cards       54030 non-null  int64 \n",
            " 5   tiprel_1mes            54030 non-null  object\n",
            " 6   ind_actividad_cliente  54030 non-null  int64 \n",
            " 7   num_Products           54030 non-null  int64 \n",
            " 8   num_loans              54030 non-null  int64 \n",
            " 9   duration               54030 non-null  int64 \n",
            "dtypes: int64(5), object(5)\n",
            "memory usage: 4.1+ MB\n"
          ]
        }
      ]
    },
    {
      "cell_type": "code",
      "source": [
        "#Describe Raw data\n",
        "perc =[.25, .75, .90, .95]\n",
        "df.describe(percentiles = perc)"
      ],
      "metadata": {
        "colab": {
          "base_uri": "https://localhost:8080/",
          "height": 363
        },
        "id": "mNBa7-z1ZJGp",
        "outputId": "465814b6-e185-474f-9b5b-8aa2937c81cb"
      },
      "execution_count": null,
      "outputs": [
        {
          "output_type": "execute_result",
          "data": {
            "text/plain": [
              "       num_credit_cards  ind_actividad_cliente  num_Products     num_loans  \\\n",
              "count      54030.000000           54030.000000  54030.000000  54030.000000   \n",
              "mean           0.049880               0.469073      1.536017      0.009365   \n",
              "std            0.217698               0.499047      1.578848      0.096320   \n",
              "min            0.000000               0.000000      0.000000      0.000000   \n",
              "25%            0.000000               0.000000      1.000000      0.000000   \n",
              "50%            0.000000               0.000000      1.000000      0.000000   \n",
              "75%            0.000000               1.000000      2.000000      0.000000   \n",
              "90%            0.000000               1.000000      3.000000      0.000000   \n",
              "95%            0.000000               1.000000      5.000000      0.000000   \n",
              "max            1.000000               1.000000     13.000000      1.000000   \n",
              "\n",
              "           duration  \n",
              "count  54030.000000  \n",
              "mean    2913.936665  \n",
              "std     2027.956268  \n",
              "min      366.000000  \n",
              "25%     1118.000000  \n",
              "50%     2039.500000  \n",
              "75%     4693.000000  \n",
              "90%     5844.000000  \n",
              "95%     6529.000000  \n",
              "max     7909.000000  "
            ],
            "text/html": [
              "\n",
              "  <div id=\"df-69111e60-a5da-4807-8d28-c9d1ce4ca1cf\">\n",
              "    <div class=\"colab-df-container\">\n",
              "      <div>\n",
              "<style scoped>\n",
              "    .dataframe tbody tr th:only-of-type {\n",
              "        vertical-align: middle;\n",
              "    }\n",
              "\n",
              "    .dataframe tbody tr th {\n",
              "        vertical-align: top;\n",
              "    }\n",
              "\n",
              "    .dataframe thead th {\n",
              "        text-align: right;\n",
              "    }\n",
              "</style>\n",
              "<table border=\"1\" class=\"dataframe\">\n",
              "  <thead>\n",
              "    <tr style=\"text-align: right;\">\n",
              "      <th></th>\n",
              "      <th>num_credit_cards</th>\n",
              "      <th>ind_actividad_cliente</th>\n",
              "      <th>num_Products</th>\n",
              "      <th>num_loans</th>\n",
              "      <th>duration</th>\n",
              "    </tr>\n",
              "  </thead>\n",
              "  <tbody>\n",
              "    <tr>\n",
              "      <th>count</th>\n",
              "      <td>54030.000000</td>\n",
              "      <td>54030.000000</td>\n",
              "      <td>54030.000000</td>\n",
              "      <td>54030.000000</td>\n",
              "      <td>54030.000000</td>\n",
              "    </tr>\n",
              "    <tr>\n",
              "      <th>mean</th>\n",
              "      <td>0.049880</td>\n",
              "      <td>0.469073</td>\n",
              "      <td>1.536017</td>\n",
              "      <td>0.009365</td>\n",
              "      <td>2913.936665</td>\n",
              "    </tr>\n",
              "    <tr>\n",
              "      <th>std</th>\n",
              "      <td>0.217698</td>\n",
              "      <td>0.499047</td>\n",
              "      <td>1.578848</td>\n",
              "      <td>0.096320</td>\n",
              "      <td>2027.956268</td>\n",
              "    </tr>\n",
              "    <tr>\n",
              "      <th>min</th>\n",
              "      <td>0.000000</td>\n",
              "      <td>0.000000</td>\n",
              "      <td>0.000000</td>\n",
              "      <td>0.000000</td>\n",
              "      <td>366.000000</td>\n",
              "    </tr>\n",
              "    <tr>\n",
              "      <th>25%</th>\n",
              "      <td>0.000000</td>\n",
              "      <td>0.000000</td>\n",
              "      <td>1.000000</td>\n",
              "      <td>0.000000</td>\n",
              "      <td>1118.000000</td>\n",
              "    </tr>\n",
              "    <tr>\n",
              "      <th>50%</th>\n",
              "      <td>0.000000</td>\n",
              "      <td>0.000000</td>\n",
              "      <td>1.000000</td>\n",
              "      <td>0.000000</td>\n",
              "      <td>2039.500000</td>\n",
              "    </tr>\n",
              "    <tr>\n",
              "      <th>75%</th>\n",
              "      <td>0.000000</td>\n",
              "      <td>1.000000</td>\n",
              "      <td>2.000000</td>\n",
              "      <td>0.000000</td>\n",
              "      <td>4693.000000</td>\n",
              "    </tr>\n",
              "    <tr>\n",
              "      <th>90%</th>\n",
              "      <td>0.000000</td>\n",
              "      <td>1.000000</td>\n",
              "      <td>3.000000</td>\n",
              "      <td>0.000000</td>\n",
              "      <td>5844.000000</td>\n",
              "    </tr>\n",
              "    <tr>\n",
              "      <th>95%</th>\n",
              "      <td>0.000000</td>\n",
              "      <td>1.000000</td>\n",
              "      <td>5.000000</td>\n",
              "      <td>0.000000</td>\n",
              "      <td>6529.000000</td>\n",
              "    </tr>\n",
              "    <tr>\n",
              "      <th>max</th>\n",
              "      <td>1.000000</td>\n",
              "      <td>1.000000</td>\n",
              "      <td>13.000000</td>\n",
              "      <td>1.000000</td>\n",
              "      <td>7909.000000</td>\n",
              "    </tr>\n",
              "  </tbody>\n",
              "</table>\n",
              "</div>\n",
              "      <button class=\"colab-df-convert\" onclick=\"convertToInteractive('df-69111e60-a5da-4807-8d28-c9d1ce4ca1cf')\"\n",
              "              title=\"Convert this dataframe to an interactive table.\"\n",
              "              style=\"display:none;\">\n",
              "        \n",
              "  <svg xmlns=\"http://www.w3.org/2000/svg\" height=\"24px\"viewBox=\"0 0 24 24\"\n",
              "       width=\"24px\">\n",
              "    <path d=\"M0 0h24v24H0V0z\" fill=\"none\"/>\n",
              "    <path d=\"M18.56 5.44l.94 2.06.94-2.06 2.06-.94-2.06-.94-.94-2.06-.94 2.06-2.06.94zm-11 1L8.5 8.5l.94-2.06 2.06-.94-2.06-.94L8.5 2.5l-.94 2.06-2.06.94zm10 10l.94 2.06.94-2.06 2.06-.94-2.06-.94-.94-2.06-.94 2.06-2.06.94z\"/><path d=\"M17.41 7.96l-1.37-1.37c-.4-.4-.92-.59-1.43-.59-.52 0-1.04.2-1.43.59L10.3 9.45l-7.72 7.72c-.78.78-.78 2.05 0 2.83L4 21.41c.39.39.9.59 1.41.59.51 0 1.02-.2 1.41-.59l7.78-7.78 2.81-2.81c.8-.78.8-2.07 0-2.86zM5.41 20L4 18.59l7.72-7.72 1.47 1.35L5.41 20z\"/>\n",
              "  </svg>\n",
              "      </button>\n",
              "      \n",
              "  <style>\n",
              "    .colab-df-container {\n",
              "      display:flex;\n",
              "      flex-wrap:wrap;\n",
              "      gap: 12px;\n",
              "    }\n",
              "\n",
              "    .colab-df-convert {\n",
              "      background-color: #E8F0FE;\n",
              "      border: none;\n",
              "      border-radius: 50%;\n",
              "      cursor: pointer;\n",
              "      display: none;\n",
              "      fill: #1967D2;\n",
              "      height: 32px;\n",
              "      padding: 0 0 0 0;\n",
              "      width: 32px;\n",
              "    }\n",
              "\n",
              "    .colab-df-convert:hover {\n",
              "      background-color: #E2EBFA;\n",
              "      box-shadow: 0px 1px 2px rgba(60, 64, 67, 0.3), 0px 1px 3px 1px rgba(60, 64, 67, 0.15);\n",
              "      fill: #174EA6;\n",
              "    }\n",
              "\n",
              "    [theme=dark] .colab-df-convert {\n",
              "      background-color: #3B4455;\n",
              "      fill: #D2E3FC;\n",
              "    }\n",
              "\n",
              "    [theme=dark] .colab-df-convert:hover {\n",
              "      background-color: #434B5C;\n",
              "      box-shadow: 0px 1px 3px 1px rgba(0, 0, 0, 0.15);\n",
              "      filter: drop-shadow(0px 1px 2px rgba(0, 0, 0, 0.3));\n",
              "      fill: #FFFFFF;\n",
              "    }\n",
              "  </style>\n",
              "\n",
              "      <script>\n",
              "        const buttonEl =\n",
              "          document.querySelector('#df-69111e60-a5da-4807-8d28-c9d1ce4ca1cf button.colab-df-convert');\n",
              "        buttonEl.style.display =\n",
              "          google.colab.kernel.accessAllowed ? 'block' : 'none';\n",
              "\n",
              "        async function convertToInteractive(key) {\n",
              "          const element = document.querySelector('#df-69111e60-a5da-4807-8d28-c9d1ce4ca1cf');\n",
              "          const dataTable =\n",
              "            await google.colab.kernel.invokeFunction('convertToInteractive',\n",
              "                                                     [key], {});\n",
              "          if (!dataTable) return;\n",
              "\n",
              "          const docLinkHtml = 'Like what you see? Visit the ' +\n",
              "            '<a target=\"_blank\" href=https://colab.research.google.com/notebooks/data_table.ipynb>data table notebook</a>'\n",
              "            + ' to learn more about interactive tables.';\n",
              "          element.innerHTML = '';\n",
              "          dataTable['output_type'] = 'display_data';\n",
              "          await google.colab.output.renderOutput(dataTable, element);\n",
              "          const docLink = document.createElement('div');\n",
              "          docLink.innerHTML = docLinkHtml;\n",
              "          element.appendChild(docLink);\n",
              "        }\n",
              "      </script>\n",
              "    </div>\n",
              "  </div>\n",
              "  "
            ]
          },
          "metadata": {},
          "execution_count": 5
        }
      ]
    },
    {
      "cell_type": "code",
      "source": [
        "#Print all Type of values present in the column\n",
        "print(\"Gender Types = \"+str(df.gender.unique())) \n",
        "print()\n",
        "print(\"Segment Types = \"+str(df.segment.unique()))\n",
        "print()\n",
        "print(\"Customer Inactivity Flag at the beginning of the period = \"+str(df.tiprel_1mes.unique()))\n",
        "print()\n",
        "print(\"Customer Inactivity Flag at the end of the period = \"+str(df.ind_actividad_cliente.unique()))\n",
        "print()\n",
        "print(\"Number of credit cards issued = \"+str(df.num_credit_cards.unique()))\n",
        "print()\n",
        "print(\"Number of Products = \"+str(df.num_Products.unique()))\n",
        "print()\n",
        "print(\"Total number loans disbursed = \"+str(df.num_loans.unique())) "
      ],
      "metadata": {
        "colab": {
          "base_uri": "https://localhost:8080/"
        },
        "id": "z-FXvqu7Zl53",
        "outputId": "3f69f6ab-95e9-445c-c2c9-04e69f018cdb"
      },
      "execution_count": null,
      "outputs": [
        {
          "output_type": "stream",
          "name": "stdout",
          "text": [
            "Gender Types = ['M' 'F']\n",
            "\n",
            "Segment Types = ['Individuals' 'College_Graduated' 'VIP']\n",
            "\n",
            "Customer Inactivity Flag at the beginning of the period = [0 1]\n",
            "\n",
            "Customer Inactivity Flag at the end of the period = [0 1]\n",
            "\n",
            "Number of credit cards issued = [0 1]\n",
            "\n",
            "Number of Products = [ 1  0  4  2  7  3  5  6  9  8 10 12 11 13]\n",
            "\n",
            "Total number loans disbursed = [0 1]\n"
          ]
        }
      ]
    },
    {
      "cell_type": "code",
      "source": [
        "#Check for null values in Data frame\n",
        "df.isnull().sum(axis = 0)"
      ],
      "metadata": {
        "colab": {
          "base_uri": "https://localhost:8080/"
        },
        "id": "7gvZa3iHa4o5",
        "outputId": "ca49278d-56ee-4685-fdf7-484032f5522a"
      },
      "execution_count": null,
      "outputs": [
        {
          "output_type": "execute_result",
          "data": {
            "text/plain": [
              "gender                   0\n",
              "age                      0\n",
              "gross_income             0\n",
              "segment                  0\n",
              "num_credit_cards         0\n",
              "tiprel_1mes              0\n",
              "ind_actividad_cliente    0\n",
              "num_Products             0\n",
              "num_loans                0\n",
              "duration                 0\n",
              "dtype: int64"
            ]
          },
          "metadata": {},
          "execution_count": 12
        }
      ]
    },
    {
      "cell_type": "markdown",
      "source": [
        "#Data Cleaning"
      ],
      "metadata": {
        "id": "VmZHirOjbgxt"
      }
    },
    {
      "cell_type": "code",
      "source": [
        "#Cleaning Age Values and income values\n",
        "df['age'] = df['age'].str.replace('years','')\n",
        "df['age'] = df['age'].astype(int)\n",
        "df['gross_income'] = df['gross_income'].str.replace('$','')\n",
        "df['gross_income'] = df['gross_income'].astype(float)\n",
        "df['tiprel_1mes'] = df['tiprel_1mes'].str.replace('A','1')\n",
        "df['tiprel_1mes'] = df['tiprel_1mes'].str.replace('I','0')\n",
        "df['tiprel_1mes'] = df['tiprel_1mes'].astype(int)\n",
        "\n",
        "df.head(2)"
      ],
      "metadata": {
        "colab": {
          "base_uri": "https://localhost:8080/",
          "height": 167
        },
        "id": "Ik1mFNqBbciI",
        "outputId": "e2db868b-d598-4320-a3dd-89986923be88"
      },
      "execution_count": null,
      "outputs": [
        {
          "output_type": "stream",
          "name": "stderr",
          "text": [
            "/usr/local/lib/python3.7/dist-packages/ipykernel_launcher.py:4: FutureWarning: The default value of regex will change from True to False in a future version. In addition, single character regular expressions will *not* be treated as literal strings when regex=True.\n",
            "  after removing the cwd from sys.path.\n"
          ]
        },
        {
          "output_type": "execute_result",
          "data": {
            "text/plain": [
              "  gender  age  gross_income            segment  num_credit_cards  tiprel_1mes  \\\n",
              "0      M   21      79070.91        Individuals                 0            0   \n",
              "1      M   23     178270.68  College_Graduated                 0            0   \n",
              "\n",
              "   ind_actividad_cliente  num_Products  num_loans  duration  \n",
              "0                      0             1          0      1035  \n",
              "1                      0             1          0      1097  "
            ],
            "text/html": [
              "\n",
              "  <div id=\"df-cb3f1a43-7d35-4729-968e-1a5e7e886c26\">\n",
              "    <div class=\"colab-df-container\">\n",
              "      <div>\n",
              "<style scoped>\n",
              "    .dataframe tbody tr th:only-of-type {\n",
              "        vertical-align: middle;\n",
              "    }\n",
              "\n",
              "    .dataframe tbody tr th {\n",
              "        vertical-align: top;\n",
              "    }\n",
              "\n",
              "    .dataframe thead th {\n",
              "        text-align: right;\n",
              "    }\n",
              "</style>\n",
              "<table border=\"1\" class=\"dataframe\">\n",
              "  <thead>\n",
              "    <tr style=\"text-align: right;\">\n",
              "      <th></th>\n",
              "      <th>gender</th>\n",
              "      <th>age</th>\n",
              "      <th>gross_income</th>\n",
              "      <th>segment</th>\n",
              "      <th>num_credit_cards</th>\n",
              "      <th>tiprel_1mes</th>\n",
              "      <th>ind_actividad_cliente</th>\n",
              "      <th>num_Products</th>\n",
              "      <th>num_loans</th>\n",
              "      <th>duration</th>\n",
              "    </tr>\n",
              "  </thead>\n",
              "  <tbody>\n",
              "    <tr>\n",
              "      <th>0</th>\n",
              "      <td>M</td>\n",
              "      <td>21</td>\n",
              "      <td>79070.91</td>\n",
              "      <td>Individuals</td>\n",
              "      <td>0</td>\n",
              "      <td>0</td>\n",
              "      <td>0</td>\n",
              "      <td>1</td>\n",
              "      <td>0</td>\n",
              "      <td>1035</td>\n",
              "    </tr>\n",
              "    <tr>\n",
              "      <th>1</th>\n",
              "      <td>M</td>\n",
              "      <td>23</td>\n",
              "      <td>178270.68</td>\n",
              "      <td>College_Graduated</td>\n",
              "      <td>0</td>\n",
              "      <td>0</td>\n",
              "      <td>0</td>\n",
              "      <td>1</td>\n",
              "      <td>0</td>\n",
              "      <td>1097</td>\n",
              "    </tr>\n",
              "  </tbody>\n",
              "</table>\n",
              "</div>\n",
              "      <button class=\"colab-df-convert\" onclick=\"convertToInteractive('df-cb3f1a43-7d35-4729-968e-1a5e7e886c26')\"\n",
              "              title=\"Convert this dataframe to an interactive table.\"\n",
              "              style=\"display:none;\">\n",
              "        \n",
              "  <svg xmlns=\"http://www.w3.org/2000/svg\" height=\"24px\"viewBox=\"0 0 24 24\"\n",
              "       width=\"24px\">\n",
              "    <path d=\"M0 0h24v24H0V0z\" fill=\"none\"/>\n",
              "    <path d=\"M18.56 5.44l.94 2.06.94-2.06 2.06-.94-2.06-.94-.94-2.06-.94 2.06-2.06.94zm-11 1L8.5 8.5l.94-2.06 2.06-.94-2.06-.94L8.5 2.5l-.94 2.06-2.06.94zm10 10l.94 2.06.94-2.06 2.06-.94-2.06-.94-.94-2.06-.94 2.06-2.06.94z\"/><path d=\"M17.41 7.96l-1.37-1.37c-.4-.4-.92-.59-1.43-.59-.52 0-1.04.2-1.43.59L10.3 9.45l-7.72 7.72c-.78.78-.78 2.05 0 2.83L4 21.41c.39.39.9.59 1.41.59.51 0 1.02-.2 1.41-.59l7.78-7.78 2.81-2.81c.8-.78.8-2.07 0-2.86zM5.41 20L4 18.59l7.72-7.72 1.47 1.35L5.41 20z\"/>\n",
              "  </svg>\n",
              "      </button>\n",
              "      \n",
              "  <style>\n",
              "    .colab-df-container {\n",
              "      display:flex;\n",
              "      flex-wrap:wrap;\n",
              "      gap: 12px;\n",
              "    }\n",
              "\n",
              "    .colab-df-convert {\n",
              "      background-color: #E8F0FE;\n",
              "      border: none;\n",
              "      border-radius: 50%;\n",
              "      cursor: pointer;\n",
              "      display: none;\n",
              "      fill: #1967D2;\n",
              "      height: 32px;\n",
              "      padding: 0 0 0 0;\n",
              "      width: 32px;\n",
              "    }\n",
              "\n",
              "    .colab-df-convert:hover {\n",
              "      background-color: #E2EBFA;\n",
              "      box-shadow: 0px 1px 2px rgba(60, 64, 67, 0.3), 0px 1px 3px 1px rgba(60, 64, 67, 0.15);\n",
              "      fill: #174EA6;\n",
              "    }\n",
              "\n",
              "    [theme=dark] .colab-df-convert {\n",
              "      background-color: #3B4455;\n",
              "      fill: #D2E3FC;\n",
              "    }\n",
              "\n",
              "    [theme=dark] .colab-df-convert:hover {\n",
              "      background-color: #434B5C;\n",
              "      box-shadow: 0px 1px 3px 1px rgba(0, 0, 0, 0.15);\n",
              "      filter: drop-shadow(0px 1px 2px rgba(0, 0, 0, 0.3));\n",
              "      fill: #FFFFFF;\n",
              "    }\n",
              "  </style>\n",
              "\n",
              "      <script>\n",
              "        const buttonEl =\n",
              "          document.querySelector('#df-cb3f1a43-7d35-4729-968e-1a5e7e886c26 button.colab-df-convert');\n",
              "        buttonEl.style.display =\n",
              "          google.colab.kernel.accessAllowed ? 'block' : 'none';\n",
              "\n",
              "        async function convertToInteractive(key) {\n",
              "          const element = document.querySelector('#df-cb3f1a43-7d35-4729-968e-1a5e7e886c26');\n",
              "          const dataTable =\n",
              "            await google.colab.kernel.invokeFunction('convertToInteractive',\n",
              "                                                     [key], {});\n",
              "          if (!dataTable) return;\n",
              "\n",
              "          const docLinkHtml = 'Like what you see? Visit the ' +\n",
              "            '<a target=\"_blank\" href=https://colab.research.google.com/notebooks/data_table.ipynb>data table notebook</a>'\n",
              "            + ' to learn more about interactive tables.';\n",
              "          element.innerHTML = '';\n",
              "          dataTable['output_type'] = 'display_data';\n",
              "          await google.colab.output.renderOutput(dataTable, element);\n",
              "          const docLink = document.createElement('div');\n",
              "          docLink.innerHTML = docLinkHtml;\n",
              "          element.appendChild(docLink);\n",
              "        }\n",
              "      </script>\n",
              "    </div>\n",
              "  </div>\n",
              "  "
            ]
          },
          "metadata": {},
          "execution_count": 4
        }
      ]
    },
    {
      "cell_type": "code",
      "source": [
        "#Filetered Data information\n",
        "df.info()"
      ],
      "metadata": {
        "colab": {
          "base_uri": "https://localhost:8080/"
        },
        "id": "qsejLjuFb7Lj",
        "outputId": "d91f9547-499c-4710-aadf-0018a3b00d61"
      },
      "execution_count": null,
      "outputs": [
        {
          "output_type": "stream",
          "name": "stdout",
          "text": [
            "<class 'pandas.core.frame.DataFrame'>\n",
            "RangeIndex: 54030 entries, 0 to 54029\n",
            "Data columns (total 10 columns):\n",
            " #   Column                 Non-Null Count  Dtype  \n",
            "---  ------                 --------------  -----  \n",
            " 0   gender                 54030 non-null  object \n",
            " 1   age                    54030 non-null  int64  \n",
            " 2   gross_income           54030 non-null  float64\n",
            " 3   segment                54030 non-null  object \n",
            " 4   num_credit_cards       54030 non-null  int64  \n",
            " 5   tiprel_1mes            54030 non-null  int64  \n",
            " 6   ind_actividad_cliente  54030 non-null  int64  \n",
            " 7   num_Products           54030 non-null  int64  \n",
            " 8   num_loans              54030 non-null  int64  \n",
            " 9   duration               54030 non-null  int64  \n",
            "dtypes: float64(1), int64(7), object(2)\n",
            "memory usage: 4.1+ MB\n"
          ]
        }
      ]
    },
    {
      "cell_type": "code",
      "source": [
        "#Describing FIltered data\n",
        "pd.options.display.float_format = '{:.2f}'.format\n",
        "perc =[.25, .75, .90, .95]\n",
        "df.describe(percentiles = perc)"
      ],
      "metadata": {
        "colab": {
          "base_uri": "https://localhost:8080/",
          "height": 363
        },
        "id": "YRYQFPLncRR7",
        "outputId": "8dd88a48-1fe5-437c-c96e-b444b93b9af3"
      },
      "execution_count": null,
      "outputs": [
        {
          "output_type": "execute_result",
          "data": {
            "text/plain": [
              "           age  gross_income  num_credit_cards  tiprel_1mes  \\\n",
              "count 54030.00      54030.00          54030.00     54030.00   \n",
              "mean     40.77     134196.67              0.05         0.46   \n",
              "std      17.21     239721.46              0.22         0.50   \n",
              "min       2.00       2336.01              0.00         0.00   \n",
              "25%      25.00      68581.07              0.00         0.00   \n",
              "50%      40.00     101566.32              0.00         0.00   \n",
              "75%      51.00     156253.76              0.00         1.00   \n",
              "90%      65.00     234387.88              0.00         1.00   \n",
              "95%      74.00     310033.37              0.00         1.00   \n",
              "max     112.00   28894395.51              1.00         1.00   \n",
              "\n",
              "       ind_actividad_cliente  num_Products  num_loans  duration  \n",
              "count               54030.00      54030.00   54030.00  54030.00  \n",
              "mean                    0.47          1.54       0.01   2913.94  \n",
              "std                     0.50          1.58       0.10   2027.96  \n",
              "min                     0.00          0.00       0.00    366.00  \n",
              "25%                     0.00          1.00       0.00   1118.00  \n",
              "50%                     0.00          1.00       0.00   2039.50  \n",
              "75%                     1.00          2.00       0.00   4693.00  \n",
              "90%                     1.00          3.00       0.00   5844.00  \n",
              "95%                     1.00          5.00       0.00   6529.00  \n",
              "max                     1.00         13.00       1.00   7909.00  "
            ],
            "text/html": [
              "\n",
              "  <div id=\"df-4caec63a-7670-4433-b8bf-f09d5eeeb3f7\">\n",
              "    <div class=\"colab-df-container\">\n",
              "      <div>\n",
              "<style scoped>\n",
              "    .dataframe tbody tr th:only-of-type {\n",
              "        vertical-align: middle;\n",
              "    }\n",
              "\n",
              "    .dataframe tbody tr th {\n",
              "        vertical-align: top;\n",
              "    }\n",
              "\n",
              "    .dataframe thead th {\n",
              "        text-align: right;\n",
              "    }\n",
              "</style>\n",
              "<table border=\"1\" class=\"dataframe\">\n",
              "  <thead>\n",
              "    <tr style=\"text-align: right;\">\n",
              "      <th></th>\n",
              "      <th>age</th>\n",
              "      <th>gross_income</th>\n",
              "      <th>num_credit_cards</th>\n",
              "      <th>tiprel_1mes</th>\n",
              "      <th>ind_actividad_cliente</th>\n",
              "      <th>num_Products</th>\n",
              "      <th>num_loans</th>\n",
              "      <th>duration</th>\n",
              "    </tr>\n",
              "  </thead>\n",
              "  <tbody>\n",
              "    <tr>\n",
              "      <th>count</th>\n",
              "      <td>54030.00</td>\n",
              "      <td>54030.00</td>\n",
              "      <td>54030.00</td>\n",
              "      <td>54030.00</td>\n",
              "      <td>54030.00</td>\n",
              "      <td>54030.00</td>\n",
              "      <td>54030.00</td>\n",
              "      <td>54030.00</td>\n",
              "    </tr>\n",
              "    <tr>\n",
              "      <th>mean</th>\n",
              "      <td>40.77</td>\n",
              "      <td>134196.67</td>\n",
              "      <td>0.05</td>\n",
              "      <td>0.46</td>\n",
              "      <td>0.47</td>\n",
              "      <td>1.54</td>\n",
              "      <td>0.01</td>\n",
              "      <td>2913.94</td>\n",
              "    </tr>\n",
              "    <tr>\n",
              "      <th>std</th>\n",
              "      <td>17.21</td>\n",
              "      <td>239721.46</td>\n",
              "      <td>0.22</td>\n",
              "      <td>0.50</td>\n",
              "      <td>0.50</td>\n",
              "      <td>1.58</td>\n",
              "      <td>0.10</td>\n",
              "      <td>2027.96</td>\n",
              "    </tr>\n",
              "    <tr>\n",
              "      <th>min</th>\n",
              "      <td>2.00</td>\n",
              "      <td>2336.01</td>\n",
              "      <td>0.00</td>\n",
              "      <td>0.00</td>\n",
              "      <td>0.00</td>\n",
              "      <td>0.00</td>\n",
              "      <td>0.00</td>\n",
              "      <td>366.00</td>\n",
              "    </tr>\n",
              "    <tr>\n",
              "      <th>25%</th>\n",
              "      <td>25.00</td>\n",
              "      <td>68581.07</td>\n",
              "      <td>0.00</td>\n",
              "      <td>0.00</td>\n",
              "      <td>0.00</td>\n",
              "      <td>1.00</td>\n",
              "      <td>0.00</td>\n",
              "      <td>1118.00</td>\n",
              "    </tr>\n",
              "    <tr>\n",
              "      <th>50%</th>\n",
              "      <td>40.00</td>\n",
              "      <td>101566.32</td>\n",
              "      <td>0.00</td>\n",
              "      <td>0.00</td>\n",
              "      <td>0.00</td>\n",
              "      <td>1.00</td>\n",
              "      <td>0.00</td>\n",
              "      <td>2039.50</td>\n",
              "    </tr>\n",
              "    <tr>\n",
              "      <th>75%</th>\n",
              "      <td>51.00</td>\n",
              "      <td>156253.76</td>\n",
              "      <td>0.00</td>\n",
              "      <td>1.00</td>\n",
              "      <td>1.00</td>\n",
              "      <td>2.00</td>\n",
              "      <td>0.00</td>\n",
              "      <td>4693.00</td>\n",
              "    </tr>\n",
              "    <tr>\n",
              "      <th>90%</th>\n",
              "      <td>65.00</td>\n",
              "      <td>234387.88</td>\n",
              "      <td>0.00</td>\n",
              "      <td>1.00</td>\n",
              "      <td>1.00</td>\n",
              "      <td>3.00</td>\n",
              "      <td>0.00</td>\n",
              "      <td>5844.00</td>\n",
              "    </tr>\n",
              "    <tr>\n",
              "      <th>95%</th>\n",
              "      <td>74.00</td>\n",
              "      <td>310033.37</td>\n",
              "      <td>0.00</td>\n",
              "      <td>1.00</td>\n",
              "      <td>1.00</td>\n",
              "      <td>5.00</td>\n",
              "      <td>0.00</td>\n",
              "      <td>6529.00</td>\n",
              "    </tr>\n",
              "    <tr>\n",
              "      <th>max</th>\n",
              "      <td>112.00</td>\n",
              "      <td>28894395.51</td>\n",
              "      <td>1.00</td>\n",
              "      <td>1.00</td>\n",
              "      <td>1.00</td>\n",
              "      <td>13.00</td>\n",
              "      <td>1.00</td>\n",
              "      <td>7909.00</td>\n",
              "    </tr>\n",
              "  </tbody>\n",
              "</table>\n",
              "</div>\n",
              "      <button class=\"colab-df-convert\" onclick=\"convertToInteractive('df-4caec63a-7670-4433-b8bf-f09d5eeeb3f7')\"\n",
              "              title=\"Convert this dataframe to an interactive table.\"\n",
              "              style=\"display:none;\">\n",
              "        \n",
              "  <svg xmlns=\"http://www.w3.org/2000/svg\" height=\"24px\"viewBox=\"0 0 24 24\"\n",
              "       width=\"24px\">\n",
              "    <path d=\"M0 0h24v24H0V0z\" fill=\"none\"/>\n",
              "    <path d=\"M18.56 5.44l.94 2.06.94-2.06 2.06-.94-2.06-.94-.94-2.06-.94 2.06-2.06.94zm-11 1L8.5 8.5l.94-2.06 2.06-.94-2.06-.94L8.5 2.5l-.94 2.06-2.06.94zm10 10l.94 2.06.94-2.06 2.06-.94-2.06-.94-.94-2.06-.94 2.06-2.06.94z\"/><path d=\"M17.41 7.96l-1.37-1.37c-.4-.4-.92-.59-1.43-.59-.52 0-1.04.2-1.43.59L10.3 9.45l-7.72 7.72c-.78.78-.78 2.05 0 2.83L4 21.41c.39.39.9.59 1.41.59.51 0 1.02-.2 1.41-.59l7.78-7.78 2.81-2.81c.8-.78.8-2.07 0-2.86zM5.41 20L4 18.59l7.72-7.72 1.47 1.35L5.41 20z\"/>\n",
              "  </svg>\n",
              "      </button>\n",
              "      \n",
              "  <style>\n",
              "    .colab-df-container {\n",
              "      display:flex;\n",
              "      flex-wrap:wrap;\n",
              "      gap: 12px;\n",
              "    }\n",
              "\n",
              "    .colab-df-convert {\n",
              "      background-color: #E8F0FE;\n",
              "      border: none;\n",
              "      border-radius: 50%;\n",
              "      cursor: pointer;\n",
              "      display: none;\n",
              "      fill: #1967D2;\n",
              "      height: 32px;\n",
              "      padding: 0 0 0 0;\n",
              "      width: 32px;\n",
              "    }\n",
              "\n",
              "    .colab-df-convert:hover {\n",
              "      background-color: #E2EBFA;\n",
              "      box-shadow: 0px 1px 2px rgba(60, 64, 67, 0.3), 0px 1px 3px 1px rgba(60, 64, 67, 0.15);\n",
              "      fill: #174EA6;\n",
              "    }\n",
              "\n",
              "    [theme=dark] .colab-df-convert {\n",
              "      background-color: #3B4455;\n",
              "      fill: #D2E3FC;\n",
              "    }\n",
              "\n",
              "    [theme=dark] .colab-df-convert:hover {\n",
              "      background-color: #434B5C;\n",
              "      box-shadow: 0px 1px 3px 1px rgba(0, 0, 0, 0.15);\n",
              "      filter: drop-shadow(0px 1px 2px rgba(0, 0, 0, 0.3));\n",
              "      fill: #FFFFFF;\n",
              "    }\n",
              "  </style>\n",
              "\n",
              "      <script>\n",
              "        const buttonEl =\n",
              "          document.querySelector('#df-4caec63a-7670-4433-b8bf-f09d5eeeb3f7 button.colab-df-convert');\n",
              "        buttonEl.style.display =\n",
              "          google.colab.kernel.accessAllowed ? 'block' : 'none';\n",
              "\n",
              "        async function convertToInteractive(key) {\n",
              "          const element = document.querySelector('#df-4caec63a-7670-4433-b8bf-f09d5eeeb3f7');\n",
              "          const dataTable =\n",
              "            await google.colab.kernel.invokeFunction('convertToInteractive',\n",
              "                                                     [key], {});\n",
              "          if (!dataTable) return;\n",
              "\n",
              "          const docLinkHtml = 'Like what you see? Visit the ' +\n",
              "            '<a target=\"_blank\" href=https://colab.research.google.com/notebooks/data_table.ipynb>data table notebook</a>'\n",
              "            + ' to learn more about interactive tables.';\n",
              "          element.innerHTML = '';\n",
              "          dataTable['output_type'] = 'display_data';\n",
              "          await google.colab.output.renderOutput(dataTable, element);\n",
              "          const docLink = document.createElement('div');\n",
              "          docLink.innerHTML = docLinkHtml;\n",
              "          element.appendChild(docLink);\n",
              "        }\n",
              "      </script>\n",
              "    </div>\n",
              "  </div>\n",
              "  "
            ]
          },
          "metadata": {},
          "execution_count": 5
        }
      ]
    },
    {
      "cell_type": "code",
      "source": [
        "import matplotlib.pyplot as plt\n",
        "%matplotlib inline\n",
        "import seaborn as sns\n"
      ],
      "metadata": {
        "id": "2md887zGcXSg"
      },
      "execution_count": null,
      "outputs": []
    },
    {
      "cell_type": "code",
      "source": [
        "#Check for extreme values\n",
        "sns.boxplot(df['age'])"
      ],
      "metadata": {
        "colab": {
          "base_uri": "https://localhost:8080/",
          "height": 351
        },
        "id": "XHUw68g-dwrz",
        "outputId": "75cce37e-8cd9-48d2-a82b-6b5f6a445d95"
      },
      "execution_count": null,
      "outputs": [
        {
          "output_type": "stream",
          "name": "stderr",
          "text": [
            "/usr/local/lib/python3.7/dist-packages/seaborn/_decorators.py:43: FutureWarning: Pass the following variable as a keyword arg: x. From version 0.12, the only valid positional argument will be `data`, and passing other arguments without an explicit keyword will result in an error or misinterpretation.\n",
            "  FutureWarning\n"
          ]
        },
        {
          "output_type": "execute_result",
          "data": {
            "text/plain": [
              "<matplotlib.axes._subplots.AxesSubplot at 0x7f8266460a90>"
            ]
          },
          "metadata": {},
          "execution_count": 36
        },
        {
          "output_type": "display_data",
          "data": {
            "text/plain": [
              "<Figure size 432x288 with 1 Axes>"
            ],
            "image/png": "[encoded data removed]"
          },
          "metadata": {
            "needs_background": "light"
          }
        }
      ]
    },
    {
      "cell_type": "code",
      "source": [
        "sns.boxplot(df['gross_income'])"
      ],
      "metadata": {
        "colab": {
          "base_uri": "https://localhost:8080/",
          "height": 352
        },
        "id": "Xu7NMUEcgW27",
        "outputId": "809bf027-5a01-410b-d020-75a859950a56"
      },
      "execution_count": null,
      "outputs": [
        {
          "output_type": "stream",
          "name": "stderr",
          "text": [
            "/usr/local/lib/python3.7/dist-packages/seaborn/_decorators.py:43: FutureWarning: Pass the following variable as a keyword arg: x. From version 0.12, the only valid positional argument will be `data`, and passing other arguments without an explicit keyword will result in an error or misinterpretation.\n",
            "  FutureWarning\n"
          ]
        },
        {
          "output_type": "execute_result",
          "data": {
            "text/plain": [
              "<matplotlib.axes._subplots.AxesSubplot at 0x7f827892ed50>"
            ]
          },
          "metadata": {},
          "execution_count": 37
        },
        {
          "output_type": "display_data",
          "data": {
            "text/plain": [
              "<Figure size 432x288 with 1 Axes>"
            ],
            "image/png": "[encoded data removed]"
          },
          "metadata": {
            "needs_background": "light"
          }
        }
      ]
    },
    {
      "cell_type": "code",
      "source": [
        "sns.boxplot(df['num_Products'])"
      ],
      "metadata": {
        "colab": {
          "base_uri": "https://localhost:8080/",
          "height": 352
        },
        "id": "FjCgIifogZGD",
        "outputId": "b2699ef2-7b99-43d7-b694-8706b182772d"
      },
      "execution_count": null,
      "outputs": [
        {
          "output_type": "stream",
          "name": "stderr",
          "text": [
            "/usr/local/lib/python3.7/dist-packages/seaborn/_decorators.py:43: FutureWarning: Pass the following variable as a keyword arg: x. From version 0.12, the only valid positional argument will be `data`, and passing other arguments without an explicit keyword will result in an error or misinterpretation.\n",
            "  FutureWarning\n"
          ]
        },
        {
          "output_type": "execute_result",
          "data": {
            "text/plain": [
              "<matplotlib.axes._subplots.AxesSubplot at 0x7f82690e4a50>"
            ]
          },
          "metadata": {},
          "execution_count": 38
        },
        {
          "output_type": "display_data",
          "data": {
            "text/plain": [
              "<Figure size 432x288 with 1 Axes>"
            ],
            "image/png": "[encoded data removed]"
          },
          "metadata": {
            "needs_background": "light"
          }
        }
      ]
    },
    {
      "cell_type": "code",
      "source": [
        "sns.boxplot(df['duration'])"
      ],
      "metadata": {
        "colab": {
          "base_uri": "https://localhost:8080/",
          "height": 351
        },
        "id": "gJ86uAmFgbQl",
        "outputId": "11961edd-e8b3-4fad-c8d0-6cce01cf67aa"
      },
      "execution_count": null,
      "outputs": [
        {
          "output_type": "stream",
          "name": "stderr",
          "text": [
            "/usr/local/lib/python3.7/dist-packages/seaborn/_decorators.py:43: FutureWarning: Pass the following variable as a keyword arg: x. From version 0.12, the only valid positional argument will be `data`, and passing other arguments without an explicit keyword will result in an error or misinterpretation.\n",
            "  FutureWarning\n"
          ]
        },
        {
          "output_type": "execute_result",
          "data": {
            "text/plain": [
              "<matplotlib.axes._subplots.AxesSubplot at 0x7f826650eed0>"
            ]
          },
          "metadata": {},
          "execution_count": 39
        },
        {
          "output_type": "display_data",
          "data": {
            "text/plain": [
              "<Figure size 432x288 with 1 Axes>"
            ],
            "image/png": "[encoded data removed]"
          },
          "metadata": {
            "needs_background": "light"
          }
        }
      ]
    },
    {
      "cell_type": "markdown",
      "source": [
        "#Q1>For people who were inactive at the start of the study and were active by the time the study ended, is there a pattern in terms of age and gender?"
      ],
      "metadata": {
        "id": "WU8s92wUt3wG"
      }
    },
    {
      "cell_type": "code",
      "source": [
        "df_I2A = df[(df['tiprel_1mes'] == 0) & (df['ind_actividad_cliente'] == 1)]  #People who went Inactive to active\n",
        "df_A2I = df[(df['tiprel_1mes'] == 1) & (df['ind_actividad_cliente'] == 0)]  #People who went active to inactive"
      ],
      "metadata": {
        "id": "BQfrnmiOgd5O"
      },
      "execution_count": null,
      "outputs": []
    },
    {
      "cell_type": "code",
      "source": [
        "#Classify age in three category \n",
        "df_I2A['age_bins'] = pd.cut(df_I2A['age'],bins=3,labels=('young','middle_age','old'))\n",
        "df_A2I['age_bins'] = pd.cut(df_A2I['age'],bins=3,labels=('young','middle_age','old'))"
      ],
      "metadata": {
        "id": "haYbDoP2zcPl"
      },
      "execution_count": null,
      "outputs": []
    },
    {
      "cell_type": "code",
      "source": [
        "df_gb_I2A = df_I2A.groupby(['gender','age_bins'])['tiprel_1mes'].count()\n",
        "df_gb_A2I = df_A2I.groupby(['gender','age_bins'])['ind_actividad_cliente'].count()"
      ],
      "metadata": {
        "id": "e6pVvI-twyFu"
      },
      "execution_count": null,
      "outputs": []
    },
    {
      "cell_type": "code",
      "source": [
        "#People who went Inactive to active\n",
        "fig, axes = plt.subplots(1, 2, figsize=(10,5), sharey=True,sharex=False)\n",
        "\n",
        "df_gb_I2A.plot(kind = 'bar',ax=axes[0],color=['SlateGray', 'brown','red', 'SteelBlue' ,'Coral', 'DarkOliveGreen'])\n",
        "axes[0].set_title(\"Inactive to Active\")\n",
        "\n",
        "df_gb_A2I.plot(kind = 'bar',ax=axes[1],color=['SlateGray', 'brown','red', 'SteelBlue' ,'Coral','DarkOliveGreen'])\n",
        "axes[1].set_title(\"Active to Inactive\")\n",
        "\n",
        "fig.tight_layout()\n",
        "plt.show()"
      ],
      "metadata": {
        "colab": {
          "base_uri": "https://localhost:8080/",
          "height": 369
        },
        "id": "P9gAtsm7wWVq",
        "outputId": "cd546591-79e6-4f00-cc7e-dcadb15b0419"
      },
      "execution_count": null,
      "outputs": [
        {
          "output_type": "display_data",
          "data": {
            "text/plain": [
              "<Figure size 720x360 with 2 Axes>"
            ],
            "image/png": "[encoded data removed]"
          },
          "metadata": {
            "needs_background": "light"
          }
        }
      ]
    },
    {
      "cell_type": "markdown",
      "source": [
        "#Q2>Do people with more than average annual income tend to have relatively high activity rates compared to people with less than average annual income?"
      ],
      "metadata": {
        "id": "sBBwLSD53PTZ"
      }
    },
    {
      "cell_type": "code",
      "source": [
        "col_mean = df['gross_income'].mean()\n",
        "df_highSal = df[df['gross_income']>col_mean]"
      ],
      "metadata": {
        "id": "GcA5TM8xzwSQ"
      },
      "execution_count": null,
      "outputs": []
    },
    {
      "cell_type": "code",
      "source": [
        "fig, axes = plt.subplots(0, 1, figsize=(12,5), sharey=True,sharex=False)\n",
        "df_highSal.groupby(['tiprel_1mes','ind_actividad_cliente']).size().plot.pie(labels = ['Inactive','Active2Inactive','Inactive2Active','Active'],explode=[0.05]*4 ,pctdistance=0.5, autopct=\"%.1f%%\")\n",
        "fig.tight_layout()\n",
        "plt.ylabel(\"\")\n",
        "plt.xlabel(\"People having High Income\")\n",
        "plt.show()"
      ],
      "metadata": {
        "colab": {
          "base_uri": "https://localhost:8080/",
          "height": 383
        },
        "id": "CBFhZoX4xfbl",
        "outputId": "3116a71c-bccb-41d5-9e0c-ce364fc3c1cf"
      },
      "execution_count": null,
      "outputs": [
        {
          "output_type": "display_data",
          "data": {
            "text/plain": [
              "<Figure size 864x360 with 1 Axes>"
            ],
            "image/png": "[encoded data removed]"
          },
          "metadata": {}
        }
      ]
    },
    {
      "cell_type": "code",
      "source": [
        "df_lowSal = df[df['gross_income']<=col_mean]"
      ],
      "metadata": {
        "id": "kbtREq6V0Mb6"
      },
      "execution_count": null,
      "outputs": []
    },
    {
      "cell_type": "code",
      "source": [
        "fig, axes = plt.subplots(0, 1, figsize=(12,5), sharey=True,sharex=False)\n",
        "df_lowSal.groupby(['tiprel_1mes','ind_actividad_cliente']).size().plot.pie(labels = ['Inactive','Active2Inactive','Inactive2Active','Active'],explode=[0.05]*4 ,pctdistance=0.5, autopct=\"%.1f%%\")\n",
        "fig.tight_layout()\n",
        "plt.ylabel(\"\")\n",
        "plt.xlabel(\"People having Low Income\")\n",
        "plt.show()"
      ],
      "metadata": {
        "colab": {
          "base_uri": "https://localhost:8080/",
          "height": 383
        },
        "id": "ijh-aQdY0KcJ",
        "outputId": "a4cf6337-2af6-43e1-9957-d151265f3cbe"
      },
      "execution_count": null,
      "outputs": [
        {
          "output_type": "display_data",
          "data": {
            "text/plain": [
              "<Figure size 864x360 with 1 Axes>"
            ],
            "image/png": "[encoded data removed]"
          },
          "metadata": {}
        }
      ]
    },
    {
      "cell_type": "code",
      "source": [
        "df_A = df[(df['tiprel_1mes'] == 1) & (df['ind_actividad_cliente'] == 1)]  #People who were Active through out the survey\n",
        "df_I = df[(df['tiprel_1mes'] == 0) & (df['ind_actividad_cliente'] == 0)]  #People who were Inactive through out the survey\n",
        "df_A2I = df[(df['tiprel_1mes'] == 1) & (df['ind_actividad_cliente'] == 0)]  #People who were Active then went Inactive\n",
        "df_I2A = df[(df['tiprel_1mes'] == 0) & (df['ind_actividad_cliente'] == 1)]  #People who were Active then went Inactive"
      ],
      "metadata": {
        "id": "K5yn-rAEv6oK"
      },
      "execution_count": null,
      "outputs": []
    },
    {
      "cell_type": "code",
      "source": [
        "df_A.reset_index(inplace = True)\n",
        "df_I.reset_index(inplace = True)\n",
        "df_A2I.reset_index(inplace = True)\n",
        "df_I2A.reset_index(inplace = True)"
      ],
      "metadata": {
        "id": "2Ml__XaI_mlr"
      },
      "execution_count": null,
      "outputs": []
    },
    {
      "cell_type": "code",
      "source": [
        "df_A['gross_income_bin'] = 1\n",
        "df_I['gross_income_bin'] = 1\n",
        "df_A2I['gross_income_bin'] = 1\n",
        "df_I2A['gross_income_bin'] = 1"
      ],
      "metadata": {
        "id": "42CCp25HCK_n"
      },
      "execution_count": null,
      "outputs": []
    },
    {
      "cell_type": "code",
      "source": [
        "col_mean = df['gross_income'].mean()\n",
        "\n",
        "for i in range(0,len(df_A)):\n",
        "  if(df_A['gross_income'][i]>col_mean):\n",
        "    df_A['gross_income_bin'][i] = \"high\"\n",
        "  else:\n",
        "    df_A['gross_income_bin'][i] = \"low\"\n"
      ],
      "metadata": {
        "id": "Gxe2CLrk_OYl"
      },
      "execution_count": null,
      "outputs": []
    },
    {
      "cell_type": "code",
      "source": [
        "for i in range(0,len(df_I)):\n",
        "  if(df_I['gross_income'][i]>col_mean):\n",
        "    df_I['gross_income_bin'][i] = \"high\"\n",
        "  else:\n",
        "    df_I['gross_income_bin'][i] = \"low\""
      ],
      "metadata": {
        "id": "sY6axgdoDHUU"
      },
      "execution_count": null,
      "outputs": []
    },
    {
      "cell_type": "code",
      "source": [
        "for i in range(0,len(df_A2I)):\n",
        "  if(df_A2I['gross_income'][i]>col_mean):\n",
        "    df_A2I['gross_income_bin'][i] = \"high\"\n",
        "  else:\n",
        "    df_A2I['gross_income_bin'][i] = \"low\"\n"
      ],
      "metadata": {
        "id": "Wlzls_o1E86z"
      },
      "execution_count": null,
      "outputs": []
    },
    {
      "cell_type": "code",
      "source": [
        "for i in range(0,len(df_I2A)):\n",
        "  if(df_I2A['gross_income'][i]>col_mean):\n",
        "    df_I2A['gross_income_bin'][i] = \"high\"\n",
        "  else:\n",
        "    df_I2A['gross_income_bin'][i] = \"low\"\n"
      ],
      "metadata": {
        "id": "YzeqS6HiE8ca"
      },
      "execution_count": null,
      "outputs": []
    },
    {
      "cell_type": "code",
      "source": [
        "fig, axes = plt.subplots(2, 2, figsize=(12,8), sharey=True,sharex=False)\n",
        "\n",
        "\n",
        "sns.countplot('gross_income_bin',data=df_A, ax=axes[0,0])\n",
        "axes[0,0].set_title(\"Active through out the survey\")\n",
        "\n",
        "\n",
        "sns.countplot('gross_income_bin',data=df_I, ax=axes[0,1])\n",
        "axes[0,1].set_title(\"Inactive through out the survey\")\n",
        "\n",
        "sns.countplot('gross_income_bin',data=df_I2A, ax=axes[1,0])\n",
        "axes[1,0].set_title(\"Inactive at start but active at last\")\n",
        "\n",
        "\n",
        "sns.countplot('gross_income_bin',data=df_A2I, ax=axes[1,1])\n",
        "axes[1,1].set_title(\"Active at start but inactive at last\")\n",
        "\n",
        "fig.tight_layout()\n",
        "plt.show()"
      ],
      "metadata": {
        "colab": {
          "base_uri": "https://localhost:8080/",
          "height": 744
        },
        "id": "8zwg_Mqr6whE",
        "outputId": "aa3d7d43-42f9-48ff-c659-25519b993103"
      },
      "execution_count": null,
      "outputs": [
        {
          "output_type": "stream",
          "name": "stderr",
          "text": [
            "/usr/local/lib/python3.7/dist-packages/seaborn/_decorators.py:43: FutureWarning: Pass the following variable as a keyword arg: x. From version 0.12, the only valid positional argument will be `data`, and passing other arguments without an explicit keyword will result in an error or misinterpretation.\n",
            "  FutureWarning\n",
            "/usr/local/lib/python3.7/dist-packages/seaborn/_decorators.py:43: FutureWarning: Pass the following variable as a keyword arg: x. From version 0.12, the only valid positional argument will be `data`, and passing other arguments without an explicit keyword will result in an error or misinterpretation.\n",
            "  FutureWarning\n",
            "/usr/local/lib/python3.7/dist-packages/seaborn/_decorators.py:43: FutureWarning: Pass the following variable as a keyword arg: x. From version 0.12, the only valid positional argument will be `data`, and passing other arguments without an explicit keyword will result in an error or misinterpretation.\n",
            "  FutureWarning\n",
            "/usr/local/lib/python3.7/dist-packages/seaborn/_decorators.py:43: FutureWarning: Pass the following variable as a keyword arg: x. From version 0.12, the only valid positional argument will be `data`, and passing other arguments without an explicit keyword will result in an error or misinterpretation.\n",
            "  FutureWarning\n"
          ]
        },
        {
          "output_type": "display_data",
          "data": {
            "text/plain": [
              "<Figure size 864x576 with 4 Axes>"
            ],
            "image/png": "[encoded data removed]"
          },
          "metadata": {
            "needs_background": "light"
          }
        }
      ]
    },
    {
      "cell_type": "markdown",
      "source": [
        "#Q3>What is the relationship between the number of products owned by customers who were active at the start and at the end vs those who were active at the start but were inactive at the end of the study period?"
      ],
      "metadata": {
        "id": "0ZqI3Ft3DyzY"
      }
    },
    {
      "cell_type": "code",
      "source": [
        "fig, axes = plt.subplots(1, 2, figsize=(10,5), sharey=True,sharex=False)\n",
        "\n",
        "sns.countplot('num_Products',data=df_A, ax=axes[0])\n",
        "axes[0].set_title(\"Active at start but inactive at last\")\n",
        "\n",
        "sns.countplot('num_Products',data=df_A2I, ax=axes[1])\n",
        "axes[1].set_title(\"Inactive at start but active at last\")\n",
        "\n",
        "fig.tight_layout()\n",
        "plt.show()"
      ],
      "metadata": {
        "colab": {
          "base_uri": "https://localhost:8080/",
          "height": 458
        },
        "id": "xH8S2-cM5LVM",
        "outputId": "3a77f532-0860-4669-9caa-e481ea016f46"
      },
      "execution_count": null,
      "outputs": [
        {
          "output_type": "stream",
          "name": "stderr",
          "text": [
            "/usr/local/lib/python3.7/dist-packages/seaborn/_decorators.py:43: FutureWarning: Pass the following variable as a keyword arg: x. From version 0.12, the only valid positional argument will be `data`, and passing other arguments without an explicit keyword will result in an error or misinterpretation.\n",
            "  FutureWarning\n",
            "/usr/local/lib/python3.7/dist-packages/seaborn/_decorators.py:43: FutureWarning: Pass the following variable as a keyword arg: x. From version 0.12, the only valid positional argument will be `data`, and passing other arguments without an explicit keyword will result in an error or misinterpretation.\n",
            "  FutureWarning\n"
          ]
        },
        {
          "output_type": "display_data",
          "data": {
            "text/plain": [
              "<Figure size 720x360 with 2 Axes>"
            ],
            "image/png": "[encoded data removed]"
          },
          "metadata": {
            "needs_background": "light"
          }
        }
      ]
    },
    {
      "cell_type": "markdown",
      "source": [
        "#Q4>How people who display consistent behaviour (active at start and active at end, inactive at start and inactive at end) differ from people who display a change in their behaviour (active at start but inactive at the end or inactive at start but active at end)?"
      ],
      "metadata": {
        "id": "4jfHAnkTJTaT"
      }
    },
    {
      "cell_type": "code",
      "source": [
        "fig, axes = plt.subplots(2, 2, figsize=(12,8), sharey=True,sharex=False)\n",
        "\n",
        "\n",
        "sns.countplot('num_Products',data=df_A, ax=axes[0,0])\n",
        "axes[0,0].set_title(\"Active through out the survey\")\n",
        "\n",
        "\n",
        "sns.countplot('num_Products',data=df_I, ax=axes[0,1])\n",
        "axes[0,1].set_title(\"Inactive through out the survey\")\n",
        "\n",
        "sns.countplot('num_Products',data=df_I2A, ax=axes[1,0])\n",
        "axes[1,0].set_title(\"Inactive at start but active at last\")\n",
        "\n",
        "\n",
        "sns.countplot('num_Products',data=df_A2I, ax=axes[1,1])\n",
        "axes[1,1].set_title(\"Active at start but inactive at last\")\n",
        "\n",
        "fig.tight_layout()\n",
        "plt.show()"
      ],
      "metadata": {
        "colab": {
          "base_uri": "https://localhost:8080/",
          "height": 744
        },
        "id": "nbwOZZ1AIKYd",
        "outputId": "c1d3d3bb-258d-4ace-f8bf-03e55eb8d736"
      },
      "execution_count": null,
      "outputs": [
        {
          "output_type": "stream",
          "name": "stderr",
          "text": [
            "/usr/local/lib/python3.7/dist-packages/seaborn/_decorators.py:43: FutureWarning: Pass the following variable as a keyword arg: x. From version 0.12, the only valid positional argument will be `data`, and passing other arguments without an explicit keyword will result in an error or misinterpretation.\n",
            "  FutureWarning\n",
            "/usr/local/lib/python3.7/dist-packages/seaborn/_decorators.py:43: FutureWarning: Pass the following variable as a keyword arg: x. From version 0.12, the only valid positional argument will be `data`, and passing other arguments without an explicit keyword will result in an error or misinterpretation.\n",
            "  FutureWarning\n",
            "/usr/local/lib/python3.7/dist-packages/seaborn/_decorators.py:43: FutureWarning: Pass the following variable as a keyword arg: x. From version 0.12, the only valid positional argument will be `data`, and passing other arguments without an explicit keyword will result in an error or misinterpretation.\n",
            "  FutureWarning\n",
            "/usr/local/lib/python3.7/dist-packages/seaborn/_decorators.py:43: FutureWarning: Pass the following variable as a keyword arg: x. From version 0.12, the only valid positional argument will be `data`, and passing other arguments without an explicit keyword will result in an error or misinterpretation.\n",
            "  FutureWarning\n"
          ]
        },
        {
          "output_type": "display_data",
          "data": {
            "text/plain": [
              "<Figure size 864x576 with 4 Axes>"
            ],
            "image/png": "[encoded data removed]"
          },
          "metadata": {
            "needs_background": "light"
          }
        }
      ]
    },
    {
      "cell_type": "code",
      "source": [
        "fig, axes = plt.subplots(2, 2, figsize=(18,10), sharey=True,sharex=False)\n",
        "\n",
        "\n",
        "sns.countplot('num_Products',hue='gender',hue_order=['M','F'],data=df_A, ax=axes[0,0])\n",
        "axes[0,0].set_title(\"Active through out the survey\")\n",
        "\n",
        "\n",
        "sns.countplot('num_Products',hue='gender',hue_order=['M','F'],data=df_I, ax=axes[0,1])\n",
        "axes[0,1].set_title(\"Inactive through out the survey\")\n",
        "\n",
        "sns.countplot('num_Products',hue='gender',hue_order=['M','F'],data=df_I2A, ax=axes[1,0])\n",
        "axes[1,0].set_title(\"Inactive at start but active at last\")\n",
        "\n",
        "\n",
        "sns.countplot('num_Products',hue='gender',hue_order=['M','F'],data=df_A2I, ax=axes[1,1])\n",
        "axes[1,1].set_title(\"Active at start but inactive at last\")\n",
        "\n",
        "fig.tight_layout()\n",
        "plt.show()"
      ],
      "metadata": {
        "colab": {
          "base_uri": "https://localhost:8080/",
          "height": 794
        },
        "id": "vAgnK706NSyC",
        "outputId": "6bd9ae19-a659-47cb-a34b-4751e61e8183"
      },
      "execution_count": null,
      "outputs": [
        {
          "output_type": "stream",
          "name": "stderr",
          "text": [
            "/usr/local/lib/python3.7/dist-packages/seaborn/_decorators.py:43: FutureWarning: Pass the following variable as a keyword arg: x. From version 0.12, the only valid positional argument will be `data`, and passing other arguments without an explicit keyword will result in an error or misinterpretation.\n",
            "  FutureWarning\n",
            "/usr/local/lib/python3.7/dist-packages/seaborn/_decorators.py:43: FutureWarning: Pass the following variable as a keyword arg: x. From version 0.12, the only valid positional argument will be `data`, and passing other arguments without an explicit keyword will result in an error or misinterpretation.\n",
            "  FutureWarning\n",
            "/usr/local/lib/python3.7/dist-packages/seaborn/_decorators.py:43: FutureWarning: Pass the following variable as a keyword arg: x. From version 0.12, the only valid positional argument will be `data`, and passing other arguments without an explicit keyword will result in an error or misinterpretation.\n",
            "  FutureWarning\n",
            "/usr/local/lib/python3.7/dist-packages/seaborn/_decorators.py:43: FutureWarning: Pass the following variable as a keyword arg: x. From version 0.12, the only valid positional argument will be `data`, and passing other arguments without an explicit keyword will result in an error or misinterpretation.\n",
            "  FutureWarning\n"
          ]
        },
        {
          "output_type": "display_data",
          "data": {
            "text/plain": [
              "<Figure size 1440x720 with 4 Axes>"
            ],
            "image/png": "[encoded data removed]"
          },
          "metadata": {
            "needs_background": "light"
          }
        }
      ]
    },
    {
      "cell_type": "markdown",
      "source": [
        "#Q5>Generate elaborate profiles for the following four groups:\n",
        "\n",
        "\n",
        "1.   Active at the start but inactive at the end\n",
        "2.   Active at the start and active by the end\n",
        "3.   Inactive at the start but active at the end\n",
        "4.   Inactive at the start and inactive at the end\n"
      ],
      "metadata": {
        "id": "g3p0v96oM_BD"
      }
    },
    {
      "cell_type": "code",
      "source": [
        "fig, axes = plt.subplots(2, 2, figsize=(12,8), sharey=True,sharex=False)\n",
        "\n",
        "\n",
        "sns.countplot('gender',data=df_A, ax=axes[0,0])\n",
        "axes[0,0].set_title(\"Active through out the survey\")\n",
        "\n",
        "\n",
        "sns.countplot('gender',data=df_I, ax=axes[0,1])\n",
        "axes[0,1].set_title(\"Inactive through out the survey\")\n",
        "\n",
        "sns.countplot('gender',data=df_I2A, ax=axes[1,0])\n",
        "axes[1,0].set_title(\"Inactive at start but active at last\")\n",
        "\n",
        "\n",
        "sns.countplot('gender',data=df_A2I, ax=axes[1,1])\n",
        "axes[1,1].set_title(\"Active at start but inactive at last\")\n",
        "\n",
        "fig.tight_layout()\n",
        "plt.show()"
      ],
      "metadata": {
        "colab": {
          "base_uri": "https://localhost:8080/",
          "height": 744
        },
        "id": "4IL3EWhyKDuU",
        "outputId": "5a383037-4e70-4d3b-cf91-71849876859b"
      },
      "execution_count": null,
      "outputs": [
        {
          "output_type": "stream",
          "name": "stderr",
          "text": [
            "/usr/local/lib/python3.7/dist-packages/seaborn/_decorators.py:43: FutureWarning: Pass the following variable as a keyword arg: x. From version 0.12, the only valid positional argument will be `data`, and passing other arguments without an explicit keyword will result in an error or misinterpretation.\n",
            "  FutureWarning\n",
            "/usr/local/lib/python3.7/dist-packages/seaborn/_decorators.py:43: FutureWarning: Pass the following variable as a keyword arg: x. From version 0.12, the only valid positional argument will be `data`, and passing other arguments without an explicit keyword will result in an error or misinterpretation.\n",
            "  FutureWarning\n",
            "/usr/local/lib/python3.7/dist-packages/seaborn/_decorators.py:43: FutureWarning: Pass the following variable as a keyword arg: x. From version 0.12, the only valid positional argument will be `data`, and passing other arguments without an explicit keyword will result in an error or misinterpretation.\n",
            "  FutureWarning\n",
            "/usr/local/lib/python3.7/dist-packages/seaborn/_decorators.py:43: FutureWarning: Pass the following variable as a keyword arg: x. From version 0.12, the only valid positional argument will be `data`, and passing other arguments without an explicit keyword will result in an error or misinterpretation.\n",
            "  FutureWarning\n"
          ]
        },
        {
          "output_type": "display_data",
          "data": {
            "text/plain": [
              "<Figure size 864x576 with 4 Axes>"
            ],
            "image/png": "[encoded data removed]"
          },
          "metadata": {
            "needs_background": "light"
          }
        }
      ]
    },
    {
      "cell_type": "code",
      "source": [
        "fig, axes = plt.subplots(2, 2, figsize=(12,8), sharey=True,sharex=False)\n",
        "\n",
        "\n",
        "sns.countplot('segment',data=df_A, ax=axes[0,0])\n",
        "axes[0,0].set_title(\"Active through out the survey\")\n",
        "\n",
        "\n",
        "sns.countplot('segment',data=df_I, ax=axes[0,1])\n",
        "axes[0,1].set_title(\"Inactive through out the survey\")\n",
        "\n",
        "sns.countplot('segment',data=df_I2A, ax=axes[1,0])\n",
        "axes[1,0].set_title(\"Inactive at start but active at last\")\n",
        "\n",
        "\n",
        "sns.countplot('segment',data=df_A2I, ax=axes[1,1])\n",
        "axes[1,1].set_title(\"Active at start but inactive at last\")\n",
        "\n",
        "fig.tight_layout()\n",
        "plt.show()"
      ],
      "metadata": {
        "colab": {
          "base_uri": "https://localhost:8080/",
          "height": 744
        },
        "id": "y80y_T_JKd-X",
        "outputId": "781922f4-e799-411c-d03a-c0faab2defdf"
      },
      "execution_count": null,
      "outputs": [
        {
          "output_type": "stream",
          "name": "stderr",
          "text": [
            "/usr/local/lib/python3.7/dist-packages/seaborn/_decorators.py:43: FutureWarning: Pass the following variable as a keyword arg: x. From version 0.12, the only valid positional argument will be `data`, and passing other arguments without an explicit keyword will result in an error or misinterpretation.\n",
            "  FutureWarning\n",
            "/usr/local/lib/python3.7/dist-packages/seaborn/_decorators.py:43: FutureWarning: Pass the following variable as a keyword arg: x. From version 0.12, the only valid positional argument will be `data`, and passing other arguments without an explicit keyword will result in an error or misinterpretation.\n",
            "  FutureWarning\n",
            "/usr/local/lib/python3.7/dist-packages/seaborn/_decorators.py:43: FutureWarning: Pass the following variable as a keyword arg: x. From version 0.12, the only valid positional argument will be `data`, and passing other arguments without an explicit keyword will result in an error or misinterpretation.\n",
            "  FutureWarning\n",
            "/usr/local/lib/python3.7/dist-packages/seaborn/_decorators.py:43: FutureWarning: Pass the following variable as a keyword arg: x. From version 0.12, the only valid positional argument will be `data`, and passing other arguments without an explicit keyword will result in an error or misinterpretation.\n",
            "  FutureWarning\n"
          ]
        },
        {
          "output_type": "display_data",
          "data": {
            "text/plain": [
              "<Figure size 864x576 with 4 Axes>"
            ],
            "image/png": "[encoded data removed]"
          },
          "metadata": {
            "needs_background": "light"
          }
        }
      ]
    },
    {
      "cell_type": "code",
      "source": [
        "fig, axes = plt.subplots(2, 2, figsize=(12,8), sharey=True,sharex=False)\n",
        "\n",
        "\n",
        "sns.countplot('segment',hue='gender',hue_order=['M','F'],data=df_A, ax=axes[0,0])\n",
        "axes[0,0].set_title(\"Active through out the survey\")\n",
        "\n",
        "\n",
        "sns.countplot('segment',hue='gender',hue_order=['M','F'],data=df_I, ax=axes[0,1])\n",
        "axes[0,1].set_title(\"Inactive through out the survey\")\n",
        "\n",
        "sns.countplot('segment',hue='gender',hue_order=['M','F'],data=df_I2A, ax=axes[1,0])\n",
        "axes[1,0].set_title(\"Inactive at start but active at last\")\n",
        "\n",
        "\n",
        "sns.countplot('segment',hue='gender',hue_order=['M','F'],data=df_A2I, ax=axes[1,1])\n",
        "axes[1,1].set_title(\"Active at start but inactive at last\")\n",
        "\n",
        "fig.tight_layout()\n",
        "plt.show()"
      ],
      "metadata": {
        "colab": {
          "base_uri": "https://localhost:8080/",
          "height": 744
        },
        "id": "T94XMXoxLQY-",
        "outputId": "79cb6661-df02-4f97-cd4a-e9f263e5aa5d"
      },
      "execution_count": null,
      "outputs": [
        {
          "output_type": "stream",
          "name": "stderr",
          "text": [
            "/usr/local/lib/python3.7/dist-packages/seaborn/_decorators.py:43: FutureWarning: Pass the following variable as a keyword arg: x. From version 0.12, the only valid positional argument will be `data`, and passing other arguments without an explicit keyword will result in an error or misinterpretation.\n",
            "  FutureWarning\n",
            "/usr/local/lib/python3.7/dist-packages/seaborn/_decorators.py:43: FutureWarning: Pass the following variable as a keyword arg: x. From version 0.12, the only valid positional argument will be `data`, and passing other arguments without an explicit keyword will result in an error or misinterpretation.\n",
            "  FutureWarning\n",
            "/usr/local/lib/python3.7/dist-packages/seaborn/_decorators.py:43: FutureWarning: Pass the following variable as a keyword arg: x. From version 0.12, the only valid positional argument will be `data`, and passing other arguments without an explicit keyword will result in an error or misinterpretation.\n",
            "  FutureWarning\n",
            "/usr/local/lib/python3.7/dist-packages/seaborn/_decorators.py:43: FutureWarning: Pass the following variable as a keyword arg: x. From version 0.12, the only valid positional argument will be `data`, and passing other arguments without an explicit keyword will result in an error or misinterpretation.\n",
            "  FutureWarning\n"
          ]
        },
        {
          "output_type": "display_data",
          "data": {
            "text/plain": [
              "<Figure size 864x576 with 4 Axes>"
            ],
            "image/png": "[encoded data removed]"
          },
          "metadata": {
            "needs_background": "light"
          }
        }
      ]
    },
    {
      "cell_type": "code",
      "source": [
        ""
      ],
      "metadata": {
        "id": "PGSW3tOfMwir"
      },
      "execution_count": null,
      "outputs": []
    }
  ]
}